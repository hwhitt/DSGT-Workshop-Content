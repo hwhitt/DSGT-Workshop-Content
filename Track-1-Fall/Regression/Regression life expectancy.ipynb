{
 "cells": [
  {
   "cell_type": "markdown",
   "metadata": {},
   "source": [
    "# Regression  "
   ]
  },
  {
   "cell_type": "markdown",
   "metadata": {},
   "source": [
    "**Goals:** In this notebook, we will analyze a large-scale dataset using simple linear, multiple linear, and polynomail/nonlinear regression.   \n",
    "\n",
    "We will follow the datascience pipeline from data exploration/visualization to model development to performance evaluation"
   ]
  },
  {
   "cell_type": "markdown",
   "metadata": {},
   "source": [
    "### Problem Statement  \n",
    "\n",
    "You are a datascientist working for the World Health Organization. Passionate about human rights and equality, you decide to use your skills (and your access to WHO's data on global health statistics) for good. \n",
    "Specifically, you are looking to conduct health analysis to determine WHY some contries have lower life expectancies than others. Clearly, some factors such as status as a developed/developing nation have an obvious impact. But what about the volume of Polio cases, percentage spending on healthcare, schooling, or national population?\n",
    "\n",
    "Your task is as follows:   \n",
    "**Given health factors for 193 countries over the years 2000-2015, what predicting features contribute to lowered life expectencies? **\n",
    "\n",
    "<img src=\"https://data.humdata.org/image/2018-12-20-114831.221148WH01.png\" width=\"400\">\n"
   ]
  },
  {
   "cell_type": "markdown",
   "metadata": {},
   "source": [
    "## Setting Up  \n",
    "We need to import our libraries... "
   ]
  },
  {
   "cell_type": "code",
   "execution_count": null,
   "metadata": {},
   "outputs": [],
   "source": [
    "import pandas as pd\n",
    "import matplotlib.pyplot as plt\n",
    "import seaborn as sns\n",
    "import numpy as np"
   ]
  },
  {
   "cell_type": "markdown",
   "metadata": {},
   "source": [
    "Import our specialized modules... "
   ]
  },
  {
   "cell_type": "code",
   "execution_count": null,
   "metadata": {},
   "outputs": [],
   "source": [
    "from sklearn.linear_model import LinearRegression\n",
    "from sklearn.metrics import mean_squared_error, r2_score, mean_absolute_error\n",
    "\n",
    "from sklearn.preprocessing import StandardScaler,PolynomialFeatures\n",
    "from sklearn.model_selection import train_test_split\n",
    "from sklearn.preprocessing import MinMaxScaler"
   ]
  },
  {
   "cell_type": "markdown",
   "metadata": {},
   "source": [
    "And read in our data."
   ]
  },
  {
   "cell_type": "code",
   "execution_count": null,
   "metadata": {},
   "outputs": [],
   "source": [
    "life_df = pd.read_csv('./LifeExpectancyData.csv')\n",
    "life_df.head()"
   ]
  },
  {
   "cell_type": "markdown",
   "metadata": {},
   "source": [
    "**Questions: **\n",
    "   - In 1-2 sentences, describe what the dataset contains\n",
    "   - What are 1-2 things that are unclear just from looking at the dataset? ex. What does Total expenditure mean?\n",
    "   - Do you see anythign \"wrong\" with this data? Anything messy, unclear, incorrect, or misleading? "
   ]
  },
  {
   "cell_type": "markdown",
   "metadata": {},
   "source": [
    "We can perform a quick statistical analysis in one line"
   ]
  },
  {
   "cell_type": "code",
   "execution_count": null,
   "metadata": {},
   "outputs": [],
   "source": [
    "life_df.describe()"
   ]
  },
  {
   "cell_type": "markdown",
   "metadata": {},
   "source": [
    "Now we understand our features, but what about our target data?  \n",
    "Life Expectancy is a continuous value output. However, is there a normal distribution. Use a distribution plot!\n",
    "\n"
   ]
  },
  {
   "cell_type": "code",
   "execution_count": null,
   "metadata": {},
   "outputs": [],
   "source": [
    "sns.distplot(life_df['Life expectancy '].dropna(), color='teal')"
   ]
  },
  {
   "cell_type": "markdown",
   "metadata": {},
   "source": [
    "### Question: What can be said about this data?   \n",
    "Ex. What is the most common value? What can you say about the range of values? Is there a skew to this data? "
   ]
  },
  {
   "cell_type": "markdown",
   "metadata": {},
   "source": [
    "# Data Cleaning  \n",
    "#### Question: The data isn't ready for processing just yet. What can you find wrong with this dataset?  \n",
    "Hint: Look at names, titles, value types, etc.   \n",
    "\n",
    "<img src=\"./resources/overwhelmed.png\" width=\"150\">"
   ]
  },
  {
   "cell_type": "markdown",
   "metadata": {},
   "source": [
    "There are a few issues with this dataset that stand out right away. We will address a few here:      \n",
    "- Look at the column names -- they look pretty messy  \n",
    "- What about missing values? These are filled with nans  \n",
    "- We are also given categorical (word) data which does not mesh with regression  "
   ]
  },
  {
   "cell_type": "markdown",
   "metadata": {},
   "source": [
    "##  *Fun Fact:*  chaining methods in pandas makes code \"Pandorable\"  :)"
   ]
  },
  {
   "cell_type": "code",
   "execution_count": null,
   "metadata": {},
   "outputs": [],
   "source": [
    "# print(life_df.columns)\n",
    "life_df.columns = life_df.columns.str.strip().str.title()\n",
    "\n",
    "#same as\n",
    "# col_names = list(life_df.columns)\n",
    "# new_names = []\n",
    "# for col in list(col_names):\n",
    "#     new_name = col.strip()\n",
    "#     new_name = new_name.title()\n",
    "#     new_names.append(new_name)\n",
    "# life_df.columns = new_names\n",
    "\n",
    "\n",
    "life_df.columns"
   ]
  },
  {
   "cell_type": "markdown",
   "metadata": {},
   "source": [
    "<h5><center>Addressing Categorical Data</center></h5>      \n",
    "Question: What is wrong with the status column contents for regression? ('Developing' or 'Developed')  \n",
    "Question: How can we handle this? \n"
   ]
  },
  {
   "cell_type": "code",
   "execution_count": null,
   "metadata": {},
   "outputs": [],
   "source": [
    "life_df['Status'].unique()"
   ]
  },
  {
   "cell_type": "code",
   "execution_count": null,
   "metadata": {},
   "outputs": [],
   "source": [
    "devel = life_df['Status']\n",
    "new_cols = pd.get_dummies(devel)\n",
    "new_cols.iloc[[3, 1000]]"
   ]
  },
  {
   "cell_type": "code",
   "execution_count": null,
   "metadata": {},
   "outputs": [],
   "source": [
    "life_df['Developing'] = new_cols['Developing']\n",
    "life_df.drop('Status', axis=1)\n",
    "life_df.head(4)"
   ]
  },
  {
   "cell_type": "markdown",
   "metadata": {},
   "source": [
    "<h5><center>Addressing Missing Values</center></h5>   \n",
    "There are many ways to handle missing data. For example, you can drop rows with missing information. \n",
    "You could replace with the average value of htat feature. Or the value with the highest frequency. Or the max. Or the min. \n",
    "\n",
    "We will return to this later in the notebook, but know you have many options"
   ]
  },
  {
   "cell_type": "code",
   "execution_count": null,
   "metadata": {},
   "outputs": [],
   "source": [
    "#count the number of nans in each columns\n",
    "life_df.isnull().sum(axis = 0)"
   ]
  },
  {
   "cell_type": "markdown",
   "metadata": {},
   "source": [
    "## Initial Investigation into Correlations: Scatter Plots and Correlation Heat Maps\n",
    "\n",
    "We can get a sense of how our features relate to life expectancy really quickly.  \n",
    "Let's visualize the correlation between each feature and life expectancy individually.\n",
    "\n",
    "#### Question: What can we expect to learn form these plots? \n",
    "\n",
    "After looking at the results:  \n",
    "Question: Which feature shows a strong positive correlation? Negative? None?  \n",
    "Question: Which feature shows the strongest correlation? "
   ]
  },
  {
   "cell_type": "code",
   "execution_count": null,
   "metadata": {},
   "outputs": [],
   "source": [
    "fig, axes = plt.subplots(nrows=7, ncols=3, figsize=(15,20))\n",
    "col_name_list= list(life_df.columns)\n",
    "for i, ax in enumerate(axes.flatten()):\n",
    "    if i == 23:\n",
    "        break\n",
    "    ax.scatter(life_df[col_name_list[i]], life_df['Life Expectancy'], color='purple')\n",
    "    ax.set_title((col_name_list[i] +' vs Life Expectancy'))\n",
    "fig.subplots_adjust(hspace=.5)"
   ]
  },
  {
   "cell_type": "markdown",
   "metadata": {},
   "source": [
    "We can condense this data into one place using a **correlation plot**   \n",
    "Returns coefficients from -1 to 1\n",
    "\n",
    "## Questions: \n",
    "How do you interpret this plot?  \n",
    "Can you tell which features would be most informative in our investigation?   \n",
    "Is a feature with a correlation coeff of -1 useful?"
   ]
  },
  {
   "cell_type": "code",
   "execution_count": null,
   "metadata": {},
   "outputs": [],
   "source": [
    "plt.figure(figsize = (14, 10))\n",
    "sns.heatmap(life_df.corr(), annot = True)"
   ]
  },
  {
   "cell_type": "markdown",
   "metadata": {},
   "source": [
    "## We have another issue!  \n",
    "So much data -> big mess!! Every contry has multiple years tracked.   This can do more than just seem overwhelming:  \n",
    "- This can cause the model to overfit due to overwhelming the model with detail. \n",
    "- Tracking year by year can \"blur\" the data by adding noise. \n",
    "    - For example, a specific GDP in 2000 will mean something much different than in 2015 due to inflation. Points in these years will thus shift, \"blurring\" the plot when compared side by side\n",
    "\n",
    "But here, we will combine each year for the contries. Then we only have one entry for each."
   ]
  },
  {
   "cell_type": "code",
   "execution_count": null,
   "metadata": {},
   "outputs": [],
   "source": [
    "life_df = life_df.groupby('Country').mean()\n",
    "life_df.drop('Year', axis=1, inplace=True)\n",
    "life_df.head(3)"
   ]
  },
  {
   "cell_type": "markdown",
   "metadata": {},
   "source": [
    "Now we will handle our missing values. For simplicity, we will replace each with the average value. \n",
    "#### Question: Do you have other ideas of replacements?"
   ]
  },
  {
   "cell_type": "code",
   "execution_count": null,
   "metadata": {},
   "outputs": [],
   "source": [
    "life_df.fillna(value = life_df.mean(), inplace = True)\n",
    "life_df.isnull().sum(axis = 0)"
   ]
  },
  {
   "cell_type": "markdown",
   "metadata": {},
   "source": [
    "These visualizations are much cleaner. It is much easier to visually extract relationships through scatter plots. This also aids the correlation matrix\n"
   ]
  },
  {
   "cell_type": "code",
   "execution_count": null,
   "metadata": {},
   "outputs": [],
   "source": [
    "fig, axes = plt.subplots(nrows=7, ncols=3, figsize=(15,20))\n",
    "col_name_list= list(life_df.columns)\n",
    "for i, ax in enumerate(axes.flatten()):\n",
    "    if i == 20:\n",
    "        break\n",
    "    ax.scatter(life_df[col_name_list[i]], life_df['Life Expectancy'], color='purple')\n",
    "    ax.set_title((col_name_list[i] +' vs Life Expectancy'))\n",
    "fig.subplots_adjust(hspace=.5)"
   ]
  },
  {
   "cell_type": "code",
   "execution_count": null,
   "metadata": {},
   "outputs": [],
   "source": [
    "plt.figure(figsize = (14, 10))\n",
    "sns.heatmap(life_df.corr(), annot = True)"
   ]
  },
  {
   "cell_type": "markdown",
   "metadata": {},
   "source": [
    "## Scaling the Data\n",
    "\n",
    "## Question: Why is scaling important? What does it mean to scale?\n",
    "- For each value to be fairly compared. \n",
    "- GDP in 1000s. BMI around 20s\n",
    "\n",
    "Guide for when to use minmax or standars scalar:  http://benalexkeen.com/feature-scaling-with-scikit-learn/\n",
    "Summary: Standard scalar when data is normally distributed. Otherwise use minmax (but note succeptibility to outliers -- may investigate robust_scalar)\n",
    "\n",
    "## Question:  \n",
    "Why are we removing the life expectancy column before scaling?"
   ]
  },
  {
   "cell_type": "code",
   "execution_count": null,
   "metadata": {},
   "outputs": [],
   "source": [
    "life_target = life_df['Life Expectancy']\n",
    "life_features = life_df.drop('Life Expectancy', axis =1)\n",
    "life_features.head(3)"
   ]
  },
  {
   "cell_type": "code",
   "execution_count": null,
   "metadata": {},
   "outputs": [],
   "source": [
    "col_list = list(life_features.columns)"
   ]
  },
  {
   "cell_type": "markdown",
   "metadata": {},
   "source": [
    "We use the minmaxscaler to scale our values.  \n",
    "This returns a numpy matrix, but we can put the information back into a more manageable pandas dataframe. "
   ]
  },
  {
   "cell_type": "code",
   "execution_count": null,
   "metadata": {},
   "outputs": [],
   "source": [
    "min_max_scaler = MinMaxScaler()\n",
    "life_features = min_max_scaler.fit_transform(life_features)\n",
    "\n",
    "# col_list = list(life_features.columns)\n",
    "feat_df = life_df.copy()\n",
    "for i in col_list:\n",
    "    feat_df[i]=min_max_scaler.fit_transform(feat_df[[i]])\n",
    "    \n",
    "print(\"make sure the features are scaled!\")\n",
    "print(life_features.max(), life_features.min())\n",
    "feat_df.head(3)"
   ]
  },
  {
   "cell_type": "markdown",
   "metadata": {},
   "source": [
    "## Question: Will this affect our correlation matrix?\n",
    "Why not? "
   ]
  },
  {
   "cell_type": "code",
   "execution_count": null,
   "metadata": {},
   "outputs": [],
   "source": [
    "plt.figure(figsize = (14, 10))\n",
    "sns.heatmap(feat_df.corr(), annot = True)"
   ]
  },
  {
   "cell_type": "markdown",
   "metadata": {},
   "source": [
    "### Splitting our data into the training and test sets  \n",
    "\n",
    "Our data can be broken up into features (input) and labels (expected output).   \n",
    "We need to split our data into train and test sets. We will then train our model and test it's performance on a held-out test set.   \n",
    "Therefore when we test it, we can test our model on data it hasn't seen before.  This indicates robustness/generalizability when deployed in the real world"
   ]
  },
  {
   "cell_type": "code",
   "execution_count": null,
   "metadata": {},
   "outputs": [],
   "source": [
    "X_train, X_test, Y_train, Y_test = train_test_split(life_features, life_target, train_size = 0.7, test_size = 0.3)"
   ]
  },
  {
   "cell_type": "markdown",
   "metadata": {},
   "source": [
    "# Motivating Simple Linear Regression (One feature)  "
   ]
  },
  {
   "attachments": {
    "image.png": {
     "image/png": "[encoded data removed]"
    }
   },
   "cell_type": "markdown",
   "metadata": {},
   "source": [
    "Reminding us of our goal: What features best predict Life Expectancy and explains its variation given below? \n",
    "<img src=\"attachment:image.png\" width=\"450\">"
   ]
  },
  {
   "cell_type": "markdown",
   "metadata": {},
   "source": [
    "Remember that when looking at one feature, we get the equation y= mx + b  \n",
    "Or: yhat = theta1 + theta2*x   \n",
    "Let's see how Adult Mortality (which saw a strong correlation coefficient) explains life expectancy \n",
    "This may seem like kind of a \"no duh\" plot, but it shows a clear linear relation ideal for simple linear regression"
   ]
  },
  {
   "cell_type": "code",
   "execution_count": null,
   "metadata": {},
   "outputs": [],
   "source": [
    "sns.regplot(x=feat_df['Adult Mortality'], y=feat_df['Life Expectancy'], data = feat_df, color='teal')"
   ]
  },
  {
   "cell_type": "markdown",
   "metadata": {},
   "source": [
    "Let's look at BMI. \n",
    "Question: Is linear regression ideal for this feature? Why or why not?"
   ]
  },
  {
   "cell_type": "code",
   "execution_count": null,
   "metadata": {},
   "outputs": [],
   "source": [
    "# feat_df\n",
    "sns.regplot(x=feat_df['Bmi'], y=feat_df['Life Expectancy'], data = feat_df, color='teal')\n",
    "#Can anybody tell what is wrong with using a linear model here?"
   ]
  },
  {
   "cell_type": "code",
   "execution_count": null,
   "metadata": {},
   "outputs": [],
   "source": [
    "# Answer: BMI should not be linear. As you approach a healthy weight your expectancy should increase yes (startving)\n",
    "# But after the point of morbid obesity, you should be lower. Maybe a quadratic fit would be best"
   ]
  },
  {
   "cell_type": "markdown",
   "metadata": {},
   "source": [
    "# Making a Model\n",
    "Now the fun part! Let's make a model and make our predictions!!\n",
    "\n",
    "We create our linear regressor, train the model, and test it's accuracy on both the training and test sets"
   ]
  },
  {
   "cell_type": "code",
   "execution_count": null,
   "metadata": {},
   "outputs": [],
   "source": [
    "adult_mort_feature = feat_df[['Adult Mortality']]\n",
    "adult_mort_target = feat_df[['Life Expectancy']]"
   ]
  },
  {
   "cell_type": "code",
   "execution_count": null,
   "metadata": {},
   "outputs": [],
   "source": [
    "X_train, X_test, Y_train, Y_test = train_test_split(adult_mort_feature, adult_mort_target, train_size = 0.7, test_size = 0.3)\n",
    "\n",
    "linear_model = LinearRegression()\n",
    "linear_model.fit(X_train, Y_train)\n",
    "print('R_square score on the training: %.2f' % linear_model.score(X_train, Y_train))"
   ]
  },
  {
   "cell_type": "code",
   "execution_count": null,
   "metadata": {},
   "outputs": [],
   "source": [
    "linear_model_predict = linear_model.predict(X_test)\n",
    "print('Coefficients: \\n', linear_model.coef_)\n",
    "\n",
    "mse_simple = round(mean_squared_error(Y_test, linear_model_predict), 2)\n",
    "mae_simple = round(mean_absolute_error(Y_test, linear_model_predict), 2)\n",
    "r2_simple = round(r2_score(Y_test, linear_model_predict), 2)\n",
    "print(\"Mean squared error: \", mse_simple, \"\\nMean absolute error: \", mae_simple, '\\nR_square score: ', r2_simple)"
   ]
  },
  {
   "cell_type": "markdown",
   "metadata": {},
   "source": [
    "## Multiple Linear Regression   \n",
    "<img src=\"./resources/multilin.png\" width=\"300\">\n",
    "We can also look at multiple features at the same time "
   ]
  },
  {
   "cell_type": "markdown",
   "metadata": {},
   "source": [
    "Lets try all of the features"
   ]
  },
  {
   "cell_type": "code",
   "execution_count": null,
   "metadata": {},
   "outputs": [],
   "source": [
    "X_train, X_test, Y_train, Y_test = train_test_split(life_features, life_target, train_size = 0.7, test_size = 0.3)\n",
    "\n",
    "linear_model = LinearRegression()\n",
    "linear_model.fit(X_train, Y_train)\n",
    "\n",
    "print('R_square score on the training: %.2f' % linear_model.score(X_train, Y_train))"
   ]
  },
  {
   "cell_type": "code",
   "execution_count": null,
   "metadata": {},
   "outputs": [],
   "source": [
    "linear_model_predict = linear_model.predict(X_test)\n",
    "\n",
    "print('Coefficients: \\n', linear_model.coef_)\n",
    "mse_multi = round(mean_squared_error(Y_test, linear_model_predict), 2)\n",
    "mae_multi = round(mean_absolute_error(Y_test, linear_model_predict), 2)\n",
    "r2_multi = round(r2_score(Y_test, linear_model_predict), 2)\n",
    "print(\"Mean squared error: \", mse_multi, \"\\nMean absolute error: \", mae_multi, '\\nR_square score: ', r2_multi)"
   ]
  },
  {
   "cell_type": "markdown",
   "metadata": {},
   "source": [
    " Let's channel our inner goldilocks. Let's try a few features (not too few not too many)  \n",
    "How can we choose? A good initial first step is to use those with the most significant correlations. \n",
    "\n"
   ]
  },
  {
   "cell_type": "code",
   "execution_count": null,
   "metadata": {},
   "outputs": [],
   "source": [
    "few_features = feat_df[['Adult Mortality', 'Schooling', 'Income Composition Of Resources']]\n",
    "few_feature_targets = feat_df['Life Expectancy']\n",
    "\n",
    "few_features.head()\n",
    "\n",
    "X_train, X_test, Y_train, Y_test = train_test_split(few_features, few_feature_targets, random_state = 2,train_size = 0.7, test_size = 0.3)\n",
    "linear_model = LinearRegression()\n",
    "linear_model.fit(X_train, Y_train)\n",
    "linear_model_predict = linear_model.predict(X_test)"
   ]
  },
  {
   "cell_type": "code",
   "execution_count": null,
   "metadata": {},
   "outputs": [],
   "source": [
    "print('Coefficients: \\n', linear_model.coef_)\n",
    "mse_multi2 = round(mean_squared_error(Y_test, linear_model_predict), 2)\n",
    "mae_multi2 = round(mean_absolute_error(Y_test, linear_model_predict), 2)\n",
    "r2_multi2 = round(r2_score(Y_test, linear_model_predict), 2)\n",
    "print(\"Mean squared error: \", mse_multi2, \"\\nMean absolute error: \", mae_multi2, '\\nR_square score: ', r2_multi2)"
   ]
  },
  {
   "cell_type": "markdown",
   "metadata": {},
   "source": [
    "Your goal might not be optimal accuracy. You can also use linear \n",
    "regression to understand the \"importance\" of each feature or its impact on the output. \n",
    "For example, I want to understand Hepatitis B, Measles, Diphtheria, Hiv/Aids, Polio\n",
    "<img src=\"./resources/disease.png\" width=\"200\">\n"
   ]
  },
  {
   "cell_type": "code",
   "execution_count": null,
   "metadata": {},
   "outputs": [],
   "source": [
    "disease_df = feat_df.copy()\n",
    "disease_df = disease_df[['Life Expectancy', 'Hepatitis B', 'Measles', 'Diphtheria', 'Hiv/Aids', 'Polio']]\n",
    "# disease_df.head()"
   ]
  },
  {
   "cell_type": "code",
   "execution_count": null,
   "metadata": {},
   "outputs": [],
   "source": [
    "# life_features = min_max_scaler.fit_transform(life_features)\n",
    "disease_feat = feat_df[['Hepatitis B', 'Measles', 'Diphtheria', 'Hiv/Aids', 'Polio']]\n",
    "disease_target = feat_df['Life Expectancy']\n",
    "\n",
    "X_train, X_test, Y_train, Y_test = train_test_split(disease_feat, disease_target, train_size = 0.7, test_size = 0.3)\n",
    "linear_model = LinearRegression()\n",
    "linear_model.fit(X_train, Y_train)\n",
    "linear_model_predict = linear_model.predict(X_test)"
   ]
  },
  {
   "cell_type": "code",
   "execution_count": null,
   "metadata": {},
   "outputs": [],
   "source": [
    "print('Coefficients: \\n', linear_model.coef_)\n",
    "mse_multi2 = round(mean_squared_error(Y_test, linear_model_predict), 2)\n",
    "mae_multi2 = round(mean_absolute_error(Y_test, linear_model_predict), 2)\n",
    "r2_multi2 = round(r2_score(Y_test, linear_model_predict), 2)\n",
    "print(\"Mean squared error: \", mse_multi2, \"\\nMean absolute error: \", mae_multi2, '\\nR_square score: ', r2_multi2)"
   ]
  },
  {
   "cell_type": "markdown",
   "metadata": {},
   "source": [
    "Do you notice anything from the coefficients? Some are large and small.   \n",
    "So measles has a lower impact than Diptheria negative!!!  \n",
    "But countries that have many cases of polio have a higher life expectancy? Why? Because more reported?  \n",
    "Becausea a disease in a rich country? "
   ]
  },
  {
   "cell_type": "markdown",
   "metadata": {},
   "source": [
    "## Nonlinear Regression.   \n",
    "\n",
    "<img src=\"./resources/nonlin.png\" width=\"400\">\n",
    "\n",
    "Some of these features have a nonlinear relationship with life expectancy (think of the BMI example).\n",
    "\n",
    "We can fit a polynomial using polynomial regression. For example, we can find a cubic, quadratic, or generally nth order polynomial function.  \n",
    "\n",
    "First we have to transform our data. Then we can fit our linear regression model and evaluate performance "
   ]
  },
  {
   "cell_type": "code",
   "execution_count": null,
   "metadata": {},
   "outputs": [],
   "source": [
    "quad_feature_transformer = PolynomialFeatures(2, interaction_only = True)\n",
    "\n",
    "quad_feature_transformer.fit(X_train)\n",
    "X_train_quad = quad_feature_transformer.transform(X_train)\n",
    "X_test_quad = quad_feature_transformer.transform(X_test)\n",
    "\n",
    "poly_model_quad = LinearRegression()\n",
    "poly_model_quad.fit(X_train_quad, Y_train)\n",
    "accuracy_score_quad = poly_model_quad.score(X_train_quad, Y_train)\n",
    "poly_model_quad_predict = poly_model_quad.predict(X_test_quad)\n",
    "\n",
    "print(accuracy_score_quad)"
   ]
  },
  {
   "cell_type": "code",
   "execution_count": null,
   "metadata": {},
   "outputs": [],
   "source": [
    "mse_nonlin = round(mean_squared_error(Y_test, poly_model_quad_predict), 2)\n",
    "mae_nonlin = round(mean_absolute_error(Y_test, poly_model_quad_predict), 2)\n",
    "r2_nonlin = round(r2_score(Y_test, poly_model_quad_predict), 2)\n",
    "print(\"Mean squared error: \", mse_nonlin, \"\\nMean absolute error: \", mae_nonlin, '\\nR_square score: ', r2_nonlin)"
   ]
  },
  {
   "cell_type": "markdown",
   "metadata": {},
   "source": [
    "We can also be more exciting with our model choices. Polynomials can be boring and also may not be the best. Other nonlinear functions can include a sigmoid function, gaussian curve, sin/cosine, inverse tangent, and more"
   ]
  },
  {
   "cell_type": "markdown",
   "metadata": {},
   "source": [
    "### Building a report   "
   ]
  },
  {
   "cell_type": "code",
   "execution_count": null,
   "metadata": {},
   "outputs": [],
   "source": [
    "report_dict = {'MSE': [mse_simple, mse_multi, mse_multi2, mse_nonlin], \n",
    "               'MAE': [mae_simple, mae_multi, mae_multi2, mae_nonlin], \n",
    "               'R^2' : [r2_simple, r2_multi, r2_multi2, r2_nonlin], \n",
    "               'Name': ['Simple', 'Multi1', 'Multi2', 'Nonlinear']}\n",
    "\n",
    "report_df = pd.DataFrame(data=report_dict)\n",
    "report_df.set_index('Name', inplace=True)\n",
    "report_df"
   ]
  },
  {
   "cell_type": "markdown",
   "metadata": {},
   "source": [
    "## Further Investigation  \n",
    "- What are other techniques we could try?  \n",
    "- How might we get even better accuracy?   \n",
    "- What other things can you investigate using this dataset? \n",
    "\n"
   ]
  },
  {
   "cell_type": "markdown",
   "metadata": {},
   "source": [
    "## Conclusion  \n",
    "In this notebook we covered:\n",
    "- Reading in a dataset\n",
    "- Exploring the data\n",
    "- Preprocessing the data\n",
    "- Visualizing the data\n",
    "- Finding correlations visually with scatterplots \n",
    "- Finding correlations visually/numberically with correlation plots\n",
    "- Fitting a simple linear regression model\n",
    "- Fitting a multiple linear regression model\n",
    "- Fitting polynomial models\n",
    "- Fitting other non-linear models\n",
    "- Analyzing model performance\n",
    "- Using our model to make predictions"
   ]
  }
 ],
 "metadata": {
  "kernelspec": {
   "display_name": "Python 3",
   "language": "python",
   "name": "python3"
  },
  "language_info": {
   "codemirror_mode": {
    "name": "ipython",
    "version": 3
   },
   "file_extension": ".py",
   "mimetype": "text/x-python",
   "name": "python",
   "nbconvert_exporter": "python",
   "pygments_lexer": "ipython3",
   "version": "3.6.9"
  }
 },
 "nbformat": 4,
 "nbformat_minor": 2
}
